{
 "cells": [
  {
   "cell_type": "markdown",
   "metadata": {
    "collapsed": true,
    "deletable": true,
    "editable": true
   },
   "source": [
    "# Image Classification\n",
    "In this project, you'll classify images from the [CIFAR-10 dataset](https://www.cs.toronto.edu/~kriz/cifar.html).  The dataset consists of airplanes, dogs, cats, and other objects. You'll preprocess the images, then train a convolutional neural network on all the samples. The images need to be normalized and the labels need to be one-hot encoded.  You'll get to apply what you learned and build a convolutional, max pooling, dropout, and fully connected layers.  At the end, you'll get to see your neural network's predictions on the sample images.\n",
    "## Get the Data\n",
    "Run the following cell to download the [CIFAR-10 dataset for python](https://www.cs.toronto.edu/~kriz/cifar-10-python.tar.gz)."
   ]
  },
  {
   "cell_type": "code",
   "execution_count": 1,
   "metadata": {
    "collapsed": false,
    "deletable": true,
    "editable": true
   },
   "outputs": [
    {
     "name": "stderr",
     "output_type": "stream",
     "text": [
      "CIFAR-10 Dataset: 171MB [00:46, 3.65MB/s]                              \n"
     ]
    },
    {
     "name": "stdout",
     "output_type": "stream",
     "text": [
      "All files found!\n"
     ]
    }
   ],
   "source": [
    "\"\"\"\n",
    "DON'T MODIFY ANYTHING IN THIS CELL THAT IS BELOW THIS LINE\n",
    "\"\"\"\n",
    "from urllib.request import urlretrieve\n",
    "from os.path import isfile, isdir\n",
    "from tqdm import tqdm\n",
    "import problem_unittests as tests\n",
    "import tarfile\n",
    "\n",
    "cifar10_dataset_folder_path = 'cifar-10-batches-py'\n",
    "\n",
    "class DLProgress(tqdm):\n",
    "    last_block = 0\n",
    "\n",
    "    def hook(self, block_num=1, block_size=1, total_size=None):\n",
    "        self.total = total_size\n",
    "        self.update((block_num - self.last_block) * block_size)\n",
    "        self.last_block = block_num\n",
    "\n",
    "if not isfile('cifar-10-python.tar.gz'):\n",
    "    with DLProgress(unit='B', unit_scale=True, miniters=1, desc='CIFAR-10 Dataset') as pbar:\n",
    "        urlretrieve(\n",
    "            'https://www.cs.toronto.edu/~kriz/cifar-10-python.tar.gz',\n",
    "            'cifar-10-python.tar.gz',\n",
    "            pbar.hook)\n",
    "\n",
    "if not isdir(cifar10_dataset_folder_path):\n",
    "    with tarfile.open('cifar-10-python.tar.gz') as tar:\n",
    "        tar.extractall()\n",
    "        tar.close()\n",
    "\n",
    "\n",
    "tests.test_folder_path(cifar10_dataset_folder_path)"
   ]
  },
  {
   "cell_type": "markdown",
   "metadata": {
    "deletable": true,
    "editable": true
   },
   "source": [
    "## Explore the Data\n",
    "The dataset is broken into batches to prevent your machine from running out of memory.  The CIFAR-10 dataset consists of 5 batches, named `data_batch_1`, `data_batch_2`, etc.. Each batch contains the labels and images that are one of the following:\n",
    "* airplane\n",
    "* automobile\n",
    "* bird\n",
    "* cat\n",
    "* deer\n",
    "* dog\n",
    "* frog\n",
    "* horse\n",
    "* ship\n",
    "* truck\n",
    "\n",
    "Understanding a dataset is part of making predictions on the data.  Play around with the code cell below by changing the `batch_id` and `sample_id`. The `batch_id` is the id for a batch (1-5). The `sample_id` is the id for a image and label pair in the batch.\n",
    "\n",
    "Ask yourself \"What are all possible labels?\", \"What is the range of values for the image data?\", \"Are the labels in order or random?\".  Answers to questions like these will help you preprocess the data and end up with better predictions."
   ]
  },
  {
   "cell_type": "code",
   "execution_count": 2,
   "metadata": {
    "collapsed": false,
    "deletable": true,
    "editable": true
   },
   "outputs": [
    {
     "name": "stdout",
     "output_type": "stream",
     "text": [
      "\n",
      "Stats of batch 1:\n",
      "Samples: 10000\n",
      "Label Counts: {0: 1005, 1: 974, 2: 1032, 3: 1016, 4: 999, 5: 937, 6: 1030, 7: 1001, 8: 1025, 9: 981}\n",
      "First 20 Labels: [6, 9, 9, 4, 1, 1, 2, 7, 8, 3, 4, 7, 7, 2, 9, 9, 9, 3, 2, 6]\n",
      "\n",
      "Example of Image 550:\n",
      "Image - Min Value: 5 Max Value: 222\n",
      "Image - Shape: (32, 32, 3)\n",
      "Label - Label Id: 3 Name: cat\n"
     ]
    },
    {
     "data": {
      "image/png": "[encoded data removed]",
      "text/plain": [
       "<matplotlib.figure.Figure at 0x7f67b4d20c18>"
      ]
     },
     "metadata": {
      "image/png": {
       "height": 250,
       "width": 253
      }
     },
     "output_type": "display_data"
    }
   ],
   "source": [
    "%matplotlib inline\n",
    "%config InlineBackend.figure_format = 'retina'\n",
    "\n",
    "import helper\n",
    "import numpy as np\n",
    "\n",
    "# Explore the dataset\n",
    "batch_id = 1\n",
    "sample_id = 550\n",
    "helper.display_stats(cifar10_dataset_folder_path, batch_id, sample_id)"
   ]
  },
  {
   "cell_type": "markdown",
   "metadata": {
    "deletable": true,
    "editable": true
   },
   "source": [
    "## Implement Preprocess Functions\n",
    "### Normalize\n",
    "In the cell below, implement the `normalize` function to take in image data, `x`, and return it as a normalized Numpy array. The values should be in the range of 0 to 1, inclusive.  The return object should be the same shape as `x`."
   ]
  },
  {
   "cell_type": "code",
   "execution_count": 3,
   "metadata": {
    "collapsed": false,
    "deletable": true,
    "editable": true
   },
   "outputs": [
    {
     "name": "stdout",
     "output_type": "stream",
     "text": [
      "Tests Passed\n"
     ]
    }
   ],
   "source": [
    "def normalize(x):\n",
    "    \"\"\"\n",
    "    Normalize a list of sample image data in the range of 0 to 1\n",
    "    : x: List of image data.  The image shape is (32, 32, 3)\n",
    "    : return: Numpy array of normalize data\n",
    "    \"\"\"\n",
    "    # TODO: Implement Function\n",
    "    _min = np.min(x)\n",
    "    _max = np.max(x)\n",
    "    return (x - _min)/(_max - _min)\n",
    "\n",
    "\n",
    "\"\"\"\n",
    "DON'T MODIFY ANYTHING IN THIS CELL THAT IS BELOW THIS LINE\n",
    "\"\"\"\n",
    "tests.test_normalize(normalize)"
   ]
  },
  {
   "cell_type": "markdown",
   "metadata": {
    "deletable": true,
    "editable": true
   },
   "source": [
    "### One-hot encode\n",
    "Just like the previous code cell, you'll be implementing a function for preprocessing.  This time, you'll implement the `one_hot_encode` function. The input, `x`, are a list of labels.  Implement the function to return the list of labels as One-Hot encoded Numpy array.  The possible values for labels are 0 to 9. The one-hot encoding function should return the same encoding for each value between each call to `one_hot_encode`.  Make sure to save the map of encodings outside the function.\n",
    "\n",
    "Hint: Don't reinvent the wheel."
   ]
  },
  {
   "cell_type": "code",
   "execution_count": 4,
   "metadata": {
    "collapsed": false,
    "deletable": true,
    "editable": true
   },
   "outputs": [
    {
     "name": "stdout",
     "output_type": "stream",
     "text": [
      "Tests Passed\n"
     ]
    }
   ],
   "source": [
    "def one_hot_encode(x):\n",
    "    \"\"\"\n",
    "    One hot encode a list of sample labels. Return a one-hot encoded vector for each label.\n",
    "    : x: List of sample Labels\n",
    "    : return: Numpy array of one-hot encoded labels\n",
    "    \"\"\"\n",
    "    # TODO: Implement Function\n",
    "    return np.eye(10)[x]\n",
    "\n",
    "\n",
    "\"\"\"\n",
    "DON'T MODIFY ANYTHING IN THIS CELL THAT IS BELOW THIS LINE\n",
    "\"\"\"\n",
    "tests.test_one_hot_encode(one_hot_encode)"
   ]
  },
  {
   "cell_type": "markdown",
   "metadata": {
    "deletable": true,
    "editable": true
   },
   "source": [
    "### Randomize Data\n",
    "As you saw from exploring the data above, the order of the samples are randomized.  It doesn't hurt to randomize it again, but you don't need to for this dataset."
   ]
  },
  {
   "cell_type": "markdown",
   "metadata": {
    "deletable": true,
    "editable": true
   },
   "source": [
    "## Preprocess all the data and save it\n",
    "Running the code cell below will preprocess all the CIFAR-10 data and save it to file. The code below also uses 10% of the training data for validation."
   ]
  },
  {
   "cell_type": "code",
   "execution_count": 5,
   "metadata": {
    "collapsed": false,
    "deletable": true,
    "editable": true
   },
   "outputs": [],
   "source": [
    "\"\"\"\n",
    "DON'T MODIFY ANYTHING IN THIS CELL\n",
    "\"\"\"\n",
    "# Preprocess Training, Validation, and Testing Data\n",
    "helper.preprocess_and_save_data(cifar10_dataset_folder_path, normalize, one_hot_encode)"
   ]
  },
  {
   "cell_type": "markdown",
   "metadata": {
    "deletable": true,
    "editable": true
   },
   "source": [
    "# Check Point\n",
    "This is your first checkpoint.  If you ever decide to come back to this notebook or have to restart the notebook, you can start from here.  The preprocessed data has been saved to disk."
   ]
  },
  {
   "cell_type": "code",
   "execution_count": 6,
   "metadata": {
    "collapsed": true,
    "deletable": true,
    "editable": true
   },
   "outputs": [],
   "source": [
    "\"\"\"\n",
    "DON'T MODIFY ANYTHING IN THIS CELL\n",
    "\"\"\"\n",
    "import pickle\n",
    "import problem_unittests as tests\n",
    "import helper\n",
    "\n",
    "# Load the Preprocessed Validation data\n",
    "valid_features, valid_labels = pickle.load(open('preprocess_validation.p', mode='rb'))"
   ]
  },
  {
   "cell_type": "markdown",
   "metadata": {
    "deletable": true,
    "editable": true
   },
   "source": [
    "## Build the network\n",
    "For the neural network, you'll build each layer into a function.  Most of the code you've seen has been outside of functions. To test your code more thoroughly, we require that you put each layer in a function.  This allows us to give you better feedback and test for simple mistakes using our unittests before you submit your project.\n",
    "\n",
    "If you're finding it hard to dedicate enough time for this course a week, we've provided a small shortcut to this part of the project. In the next couple of problems, you'll have the option to use [TensorFlow Layers](https://www.tensorflow.org/api_docs/python/tf/layers) or [TensorFlow Layers (contrib)](https://www.tensorflow.org/api_guides/python/contrib.layers) to build each layer, except \"Convolutional & Max Pooling\" layer.  TF Layers is similar to Keras's and TFLearn's abstraction to layers, so it's easy to pickup.\n",
    "\n",
    "If you would like to get the most of this course, try to solve all the problems without TF Layers.  Let's begin!\n",
    "### Input\n",
    "The neural network needs to read the image data, one-hot encoded labels, and dropout keep probability. Implement the following functions\n",
    "* Implement `neural_net_image_input`\n",
    " * Return a [TF Placeholder](https://www.tensorflow.org/api_docs/python/tf/placeholder)\n",
    " * Set the shape using `image_shape` with batch size set to `None`.\n",
    " * Name the TensorFlow placeholder \"x\" using the TensorFlow `name` parameter in the [TF Placeholder](https://www.tensorflow.org/api_docs/python/tf/placeholder).\n",
    "* Implement `neural_net_label_input`\n",
    " * Return a [TF Placeholder](https://www.tensorflow.org/api_docs/python/tf/placeholder)\n",
    " * Set the shape using `n_classes` with batch size set to `None`.\n",
    " * Name the TensorFlow placeholder \"y\" using the TensorFlow `name` parameter in the [TF Placeholder](https://www.tensorflow.org/api_docs/python/tf/placeholder).\n",
    "* Implement `neural_net_keep_prob_input`\n",
    " * Return a [TF Placeholder](https://www.tensorflow.org/api_docs/python/tf/placeholder) for dropout keep probability.\n",
    " * Name the TensorFlow placeholder \"keep_prob\" using the TensorFlow `name` parameter in the [TF Placeholder](https://www.tensorflow.org/api_docs/python/tf/placeholder).\n",
    "\n",
    "These names will be used at the end of the project to load your saved model.\n",
    "\n",
    "Note: `None` for shapes in TensorFlow allow for a dynamic size."
   ]
  },
  {
   "cell_type": "code",
   "execution_count": 7,
   "metadata": {
    "collapsed": false,
    "deletable": true,
    "editable": true
   },
   "outputs": [
    {
     "name": "stdout",
     "output_type": "stream",
     "text": [
      "Image Input Tests Passed.\n",
      "Label Input Tests Passed.\n",
      "Keep Prob Tests Passed.\n"
     ]
    }
   ],
   "source": [
    "import tensorflow as tf\n",
    "\n",
    "def neural_net_image_input(image_shape):\n",
    "    \"\"\"\n",
    "    Return a Tensor for a bach of image input\n",
    "    : image_shape: Shape of the images\n",
    "    : return: Tensor for image input.\n",
    "    \"\"\"\n",
    "    # TODO: Implement Function\n",
    "    return tf.placeholder(tf.float32, [None, *image_shape], name='x')\n",
    "\n",
    "\n",
    "def neural_net_label_input(n_classes):\n",
    "    \"\"\"\n",
    "    Return a Tensor for a batch of label input\n",
    "    : n_classes: Number of classes\n",
    "    : return: Tensor for label input.\n",
    "    \"\"\"\n",
    "    # TODO: Implement Function\n",
    "    return tf.placeholder(tf.float32, [None, n_classes], name='y')\n",
    "\n",
    "\n",
    "def neural_net_keep_prob_input():\n",
    "    \"\"\"\n",
    "    Return a Tensor for keep probability\n",
    "    : return: Tensor for keep probability.\n",
    "    \"\"\"\n",
    "    # TODO: Implement Function\n",
    "    return tf.placeholder(tf.float32, name='keep_prob')\n",
    "\n",
    "\n",
    "\"\"\"\n",
    "DON'T MODIFY ANYTHING IN THIS CELL THAT IS BELOW THIS LINE\n",
    "\"\"\"\n",
    "tf.reset_default_graph()\n",
    "tests.test_nn_image_inputs(neural_net_image_input)\n",
    "tests.test_nn_label_inputs(neural_net_label_input)\n",
    "tests.test_nn_keep_prob_inputs(neural_net_keep_prob_input)"
   ]
  },
  {
   "cell_type": "markdown",
   "metadata": {
    "deletable": true,
    "editable": true
   },
   "source": [
    "### Convolution and Max Pooling Layer\n",
    "Convolution layers have a lot of success with images. For this code cell, you should implement the function `conv2d_maxpool` to apply convolution then max pooling:\n",
    "* Create the weight and bias using `conv_ksize`, `conv_num_outputs` and the shape of `x_tensor`.\n",
    "* Apply a convolution to `x_tensor` using weight and `conv_strides`.\n",
    " * We recommend you use same padding, but you're welcome to use any padding.\n",
    "* Add bias\n",
    "* Add a nonlinear activation to the convolution.\n",
    "* Apply Max Pooling using `pool_ksize` and `pool_strides`.\n",
    " * We recommend you use same padding, but you're welcome to use any padding.\n",
    "\n",
    "Note: You **can't** use [TensorFlow Layers](https://www.tensorflow.org/api_docs/python/tf/layers) or [TensorFlow Layers (contrib)](https://www.tensorflow.org/api_guides/python/contrib.layers) for this layer.  You're free to use any TensorFlow package for all the other layers."
   ]
  },
  {
   "cell_type": "code",
   "execution_count": 32,
   "metadata": {
    "collapsed": false,
    "deletable": true,
    "editable": true
   },
   "outputs": [
    {
     "name": "stdout",
     "output_type": "stream",
     "text": [
      "Tests Passed\n"
     ]
    }
   ],
   "source": [
    "def conv2d_maxpool(x_tensor, conv_num_outputs, conv_ksize, conv_strides, pool_ksize, pool_strides):\n",
    "    \"\"\"\n",
    "    Apply convolution then max pooling to x_tensor\n",
    "    :param x_tensor: TensorFlow Tensor\n",
    "    :param conv_num_outputs: Number of outputs for the convolutional layer\n",
    "    :param conv_strides: Stride 2-D Tuple for convolution\n",
    "    :param pool_ksize: kernal size 2-D Tuple for pool\n",
    "    :param pool_strides: Stride 2-D Tuple for pool\n",
    "    : return: A tensor that represents convolution and max pooling of x_tensor\n",
    "    \"\"\"\n",
    "    # TODO: Implement Function\n",
    "    in_depth = int(x_tensor.shape[3])\n",
    "    out_depth = conv_num_outputs\n",
    "    w_shape = [*conv_ksize, in_depth, out_depth]\n",
    "    w = tf.Variable(tf.random_normal(w_shape, stddev=0.1))\n",
    "    b = tf.Variable(tf.zeros(out_depth))\n",
    "    \n",
    "    conv_strides = [1, *conv_strides, 1]\n",
    "    x = tf.nn.conv2d(x_tensor, w, strides=conv_strides, padding='SAME')\n",
    "    \n",
    "    x = tf.nn.bias_add(x, b)\n",
    "    x = tf.nn.relu(x)\n",
    "    \n",
    "    pool_ksize = [1, *pool_ksize, 1]\n",
    "    pool_strides = [1, *pool_strides, 1]\n",
    "    x = tf.nn.max_pool(x, pool_ksize, pool_strides, padding='SAME')\n",
    "    return x\n",
    "\n",
    "\n",
    "\"\"\"\n",
    "DON'T MODIFY ANYTHING IN THIS CELL THAT IS BELOW THIS LINE\n",
    "\"\"\"\n",
    "tests.test_con_pool(conv2d_maxpool)"
   ]
  },
  {
   "cell_type": "markdown",
   "metadata": {
    "deletable": true,
    "editable": true
   },
   "source": [
    "### Flatten Layer\n",
    "Implement the `flatten` function to change the dimension of `x_tensor` from a 4-D tensor to a 2-D tensor.  The output should be the shape (*Batch Size*, *Flattened Image Size*). You can use [TensorFlow Layers](https://www.tensorflow.org/api_docs/python/tf/layers) or [TensorFlow Layers (contrib)](https://www.tensorflow.org/api_guides/python/contrib.layers) for this layer."
   ]
  },
  {
   "cell_type": "code",
   "execution_count": 9,
   "metadata": {
    "collapsed": false,
    "deletable": true,
    "editable": true
   },
   "outputs": [
    {
     "name": "stdout",
     "output_type": "stream",
     "text": [
      "Tests Passed\n"
     ]
    }
   ],
   "source": [
    "def flatten(x_tensor):\n",
    "    \"\"\"\n",
    "    Flatten x_tensor to (Batch Size, Flattened Image Size)\n",
    "    : x_tensor: A tensor of size (Batch Size, ...), where ... are the image dimensions.\n",
    "    : return: A tensor of size (Batch Size, Flattened Image Size).\n",
    "    \"\"\"\n",
    "    batch_size, *img_size = x_tensor.get_shape().as_list()\n",
    "    img_size = img_size[0] * img_size[1] * img_size[2]\n",
    "    return tf.reshape(x_tensor, [-1, img_size])\n",
    "\n",
    "\n",
    "\"\"\"\n",
    "DON'T MODIFY ANYTHING IN THIS CELL THAT IS BELOW THIS LINE\n",
    "\"\"\"\n",
    "tests.test_flatten(flatten)"
   ]
  },
  {
   "cell_type": "markdown",
   "metadata": {
    "deletable": true,
    "editable": true
   },
   "source": [
    "### Fully-Connected Layer\n",
    "Implement the `fully_conn` function to apply a fully connected layer to `x_tensor` with the shape (*Batch Size*, *num_outputs*). You can use [TensorFlow Layers](https://www.tensorflow.org/api_docs/python/tf/layers) or [TensorFlow Layers (contrib)](https://www.tensorflow.org/api_guides/python/contrib.layers) for this layer."
   ]
  },
  {
   "cell_type": "code",
   "execution_count": 33,
   "metadata": {
    "collapsed": false,
    "deletable": true,
    "editable": true
   },
   "outputs": [
    {
     "name": "stdout",
     "output_type": "stream",
     "text": [
      "Tests Passed\n"
     ]
    }
   ],
   "source": [
    "def fully_conn(x_tensor, num_outputs):\n",
    "    \"\"\"\n",
    "    Apply a fully connected layer to x_tensor using weight and bias\n",
    "    : x_tensor: A 2-D tensor where the first dimension is batch size.\n",
    "    : num_outputs: The number of output that the new tensor should be.\n",
    "    : return: A 2-D tensor where the second dimension is num_outputs.\n",
    "    \"\"\"\n",
    "    # TODO: Implement Function\n",
    "    w_shape = (int(x_tensor.get_shape().as_list()[1]), num_outputs)\n",
    "    w = tf.Variable(tf.random_normal(w_shape, stddev=0.1))\n",
    "    b = tf.Variable(tf.zeros(num_outputs))\n",
    "    x = tf.add(tf.matmul(x_tensor, w), b)\n",
    "    x = tf.nn.relu(x)\n",
    "    return x\n",
    "\n",
    "\n",
    "\"\"\"\n",
    "DON'T MODIFY ANYTHING IN THIS CELL THAT IS BELOW THIS LINE\n",
    "\"\"\"\n",
    "tests.test_fully_conn(fully_conn)"
   ]
  },
  {
   "cell_type": "markdown",
   "metadata": {
    "deletable": true,
    "editable": true
   },
   "source": [
    "### Output Layer\n",
    "Implement the `output` function to apply a fully connected layer to `x_tensor` with the shape (*Batch Size*, *num_outputs*). You can use [TensorFlow Layers](https://www.tensorflow.org/api_docs/python/tf/layers) or [TensorFlow Layers (contrib)](https://www.tensorflow.org/api_guides/python/contrib.layers) for this layer.\n",
    "\n",
    "Note: Activation, softmax, or cross entropy shouldn't be applied to this."
   ]
  },
  {
   "cell_type": "code",
   "execution_count": 34,
   "metadata": {
    "collapsed": false,
    "deletable": true,
    "editable": true
   },
   "outputs": [
    {
     "name": "stdout",
     "output_type": "stream",
     "text": [
      "Tests Passed\n"
     ]
    }
   ],
   "source": [
    "def output(x_tensor, num_outputs):\n",
    "    \"\"\"\n",
    "    Apply a output layer to x_tensor using weight and bias\n",
    "    : x_tensor: A 2-D tensor where the first dimension is batch size.\n",
    "    : num_outputs: The number of output that the new tensor should be.\n",
    "    : return: A 2-D tensor where the second dimension is num_outputs.\n",
    "    \"\"\"\n",
    "    # TODO: Implement Function\n",
    "    w_shape = [int(x_tensor.get_shape().as_list()[1]), num_outputs]\n",
    "    w = tf.Variable(tf.random_normal(w_shape, stddev=0.1))\n",
    "    b = tf.Variable(tf.zeros(num_outputs))\n",
    "    x = tf.add(tf.matmul(x_tensor, w), b)\n",
    "    return x\n",
    "\n",
    "\n",
    "\"\"\"\n",
    "DON'T MODIFY ANYTHING IN THIS CELL THAT IS BELOW THIS LINE\n",
    "\"\"\"\n",
    "tests.test_output(output)"
   ]
  },
  {
   "cell_type": "markdown",
   "metadata": {
    "deletable": true,
    "editable": true
   },
   "source": [
    "### Create Convolutional Model\n",
    "Implement the function `conv_net` to create a convolutional neural network model. The function takes in a batch of images, `x`, and outputs logits.  Use the layers you created above to create this model:\n",
    "\n",
    "* Apply 1, 2, or 3 Convolution and Max Pool layers\n",
    "* Apply a Flatten Layer\n",
    "* Apply 1, 2, or 3 Fully Connected Layers\n",
    "* Apply an Output Layer\n",
    "* Return the output\n",
    "* Apply [TensorFlow's Dropout](https://www.tensorflow.org/api_docs/python/tf/nn/dropout) to one or more layers in the model using `keep_prob`. "
   ]
  },
  {
   "cell_type": "code",
   "execution_count": 35,
   "metadata": {
    "collapsed": false,
    "deletable": true,
    "editable": true
   },
   "outputs": [
    {
     "name": "stdout",
     "output_type": "stream",
     "text": [
      "Neural Network Built!\n"
     ]
    }
   ],
   "source": [
    "def conv_net(x, keep_prob):\n",
    "    \"\"\"\n",
    "    Create a convolutional neural network model\n",
    "    : x: Placeholder tensor that holds image data.\n",
    "    : keep_prob: Placeholder tensor that hold dropout keep probability.\n",
    "    : return: Tensor that represents logits\n",
    "    \"\"\"\n",
    "    # TODO: Apply 1, 2, or 3 Convolution and Max Pool layers\n",
    "    #    Play around with different number of outputs, kernel size and stride\n",
    "    # Function Definition from Above:\n",
    "    #    conv2d_maxpool(x_tensor, conv_num_outputs, conv_ksize, conv_strides, pool_ksize, pool_strides)\n",
    "    x = conv2d_maxpool(x, 32, (3, 3), (1, 1), (2, 2), (2, 2))\n",
    "    x = conv2d_maxpool(x, 32, (3, 3), (2, 2), (2, 2), (2, 2))\n",
    "    x = conv2d_maxpool(x, 64, (3, 3), (1, 1), (2, 2), (2, 2))\n",
    "\n",
    "    # TODO: Apply a Flatten Layer\n",
    "    # Function Definition from Above:\n",
    "    #   flatten(x_tensor)\n",
    "    x = flatten(x)\n",
    "    \n",
    "\n",
    "    # TODO: Apply 1, 2, or 3 Fully Connected Layers\n",
    "    #    Play around with different number of outputs\n",
    "    # Function Definition from Above:\n",
    "    #   fully_conn(x_tensor, num_outputs)\n",
    "    x = fully_conn(x, 512)\n",
    "    x = tf.nn.dropout(x, keep_prob)\n",
    "    x = fully_conn(x, 128)\n",
    "    x = tf.nn.dropout(x, keep_prob)\n",
    "    \n",
    "    \n",
    "    # TODO: Apply an Output Layer\n",
    "    #    Set this to the number of classes\n",
    "    # Function Definition from Above:\n",
    "    #   output(x_tensor, num_outputs)\n",
    "    out = output(x, 10)\n",
    "    \n",
    "    \n",
    "    # TODO: return output\n",
    "    return out\n",
    "\n",
    "\n",
    "\"\"\"\n",
    "DON'T MODIFY ANYTHING IN THIS CELL THAT IS BELOW THIS LINE\n",
    "\"\"\"\n",
    "\n",
    "##############################\n",
    "## Build the Neural Network ##\n",
    "##############################\n",
    "\n",
    "# Remove previous weights, bias, inputs, etc..\n",
    "tf.reset_default_graph()\n",
    "\n",
    "# Inputs\n",
    "x = neural_net_image_input((32, 32, 3))\n",
    "y = neural_net_label_input(10)\n",
    "keep_prob = neural_net_keep_prob_input()\n",
    "\n",
    "# Model\n",
    "logits = conv_net(x, keep_prob)\n",
    "\n",
    "# Name logits Tensor, so that is can be loaded from disk after training\n",
    "logits = tf.identity(logits, name='logits')\n",
    "\n",
    "# Loss and Optimizer\n",
    "cost = tf.reduce_mean(tf.nn.softmax_cross_entropy_with_logits(logits=logits, labels=y))\n",
    "optimizer = tf.train.AdamOptimizer().minimize(cost)\n",
    "\n",
    "# Accuracy\n",
    "correct_pred = tf.equal(tf.argmax(logits, 1), tf.argmax(y, 1))\n",
    "accuracy = tf.reduce_mean(tf.cast(correct_pred, tf.float32), name='accuracy')\n",
    "\n",
    "tests.test_conv_net(conv_net)"
   ]
  },
  {
   "cell_type": "markdown",
   "metadata": {
    "deletable": true,
    "editable": true
   },
   "source": [
    "## Train the Neural Network\n",
    "### Single Optimization\n",
    "Implement the function `train_neural_network` to do a single optimization.  The optimization should use `optimizer` to optimize in `session` with a `feed_dict` of the following:\n",
    "* `x` for image input\n",
    "* `y` for labels\n",
    "* `keep_prob` for keep probability for dropout\n",
    "\n",
    "This function will be called for each batch, so `tf.global_variables_initializer()` has already been called.\n",
    "\n",
    "Note: Nothing needs to be returned. This function is only optimizing the neural network."
   ]
  },
  {
   "cell_type": "code",
   "execution_count": 26,
   "metadata": {
    "collapsed": false,
    "deletable": true,
    "editable": true
   },
   "outputs": [
    {
     "name": "stdout",
     "output_type": "stream",
     "text": [
      "Tests Passed\n"
     ]
    }
   ],
   "source": [
    "def train_neural_network(session, optimizer, keep_probability, feature_batch, label_batch):\n",
    "    \"\"\"\n",
    "    Optimize the session on a batch of images and labels\n",
    "    : session: Current TensorFlow session\n",
    "    : optimizer: TensorFlow optimizer function\n",
    "    : keep_probability: keep probability\n",
    "    : feature_batch: Batch of Numpy image data\n",
    "    : label_batch: Batch of Numpy label data\n",
    "    \"\"\"\n",
    "    # TODO: Implement Function\n",
    "    session.run(optimizer, feed_dict={\n",
    "        x: feature_batch,\n",
    "        y: label_batch,\n",
    "        keep_prob: keep_probability\n",
    "    })\n",
    "\n",
    "\n",
    "\"\"\"\n",
    "DON'T MODIFY ANYTHING IN THIS CELL THAT IS BELOW THIS LINE\n",
    "\"\"\"\n",
    "tests.test_train_nn(train_neural_network)"
   ]
  },
  {
   "cell_type": "markdown",
   "metadata": {
    "deletable": true,
    "editable": true
   },
   "source": [
    "### Show Stats\n",
    "Implement the function `print_stats` to print loss and validation accuracy.  Use the global variables `valid_features` and `valid_labels` to calculate validation accuracy.  Use a keep probability of `1.0` to calculate the loss and validation accuracy."
   ]
  },
  {
   "cell_type": "code",
   "execution_count": 27,
   "metadata": {
    "collapsed": false,
    "deletable": true,
    "editable": true
   },
   "outputs": [],
   "source": [
    "def print_stats(session, feature_batch, label_batch, cost, accuracy):\n",
    "    \"\"\"\n",
    "    Print information about loss and validation accuracy\n",
    "    : session: Current TensorFlow session\n",
    "    : feature_batch: Batch of Numpy image data\n",
    "    : label_batch: Batch of Numpy label data\n",
    "    : cost: TensorFlow cost function\n",
    "    : accuracy: TensorFlow accuracy function\n",
    "    \"\"\"\n",
    "    # TODO: Implement Function\n",
    "    loss = session.run(cost, feed_dict={\n",
    "        x: feature_batch,\n",
    "        y: label_batch,\n",
    "        keep_prob: 1.\n",
    "    })\n",
    "    \n",
    "    valid_accuracy = session.run(accuracy, feed_dict={\n",
    "        x: valid_features,\n",
    "        y: valid_labels,\n",
    "        keep_prob: 1.\n",
    "    })\n",
    "\n",
    "    print('Loss: {:>10.4f} Validation Accuracy: {:.6f}'.format(loss, valid_accuracy))"
   ]
  },
  {
   "cell_type": "markdown",
   "metadata": {
    "deletable": true,
    "editable": true
   },
   "source": [
    "### Hyperparameters\n",
    "Tune the following parameters:\n",
    "* Set `epochs` to the number of iterations until the network stops learning or start overfitting\n",
    "* Set `batch_size` to the highest number that your machine has memory for.  Most people set them to common sizes of memory:\n",
    " * 64\n",
    " * 128\n",
    " * 256\n",
    " * ...\n",
    "* Set `keep_probability` to the probability of keeping a node using dropout"
   ]
  },
  {
   "cell_type": "code",
   "execution_count": 28,
   "metadata": {
    "collapsed": true,
    "deletable": true,
    "editable": true
   },
   "outputs": [],
   "source": [
    "# TODO: Tune Parameters\n",
    "epochs = 50\n",
    "batch_size = 256\n",
    "keep_probability = 0.5"
   ]
  },
  {
   "cell_type": "markdown",
   "metadata": {
    "deletable": true,
    "editable": true
   },
   "source": [
    "### Train on a Single CIFAR-10 Batch\n",
    "Instead of training the neural network on all the CIFAR-10 batches of data, let's use a single batch. This should save time while you iterate on the model to get a better accuracy.  Once the final validation accuracy is 50% or greater, run the model on all the data in the next section."
   ]
  },
  {
   "cell_type": "code",
   "execution_count": 36,
   "metadata": {
    "collapsed": false,
    "deletable": true,
    "editable": true
   },
   "outputs": [
    {
     "name": "stdout",
     "output_type": "stream",
     "text": [
      "Checking the Training on a Single Batch...\n",
      "Epoch  1, CIFAR-10 Batch 1:  Loss:     2.1909 Validation Accuracy: 0.201400\n",
      "Epoch  2, CIFAR-10 Batch 1:  Loss:     2.0772 Validation Accuracy: 0.301000\n",
      "Epoch  3, CIFAR-10 Batch 1:  Loss:     1.9294 Validation Accuracy: 0.344400\n",
      "Epoch  4, CIFAR-10 Batch 1:  Loss:     1.7463 Validation Accuracy: 0.396800\n",
      "Epoch  5, CIFAR-10 Batch 1:  Loss:     1.6405 Validation Accuracy: 0.409600\n",
      "Epoch  6, CIFAR-10 Batch 1:  Loss:     1.5122 Validation Accuracy: 0.436000\n",
      "Epoch  7, CIFAR-10 Batch 1:  Loss:     1.3801 Validation Accuracy: 0.454800\n",
      "Epoch  8, CIFAR-10 Batch 1:  Loss:     1.2497 Validation Accuracy: 0.471400\n",
      "Epoch  9, CIFAR-10 Batch 1:  Loss:     1.1491 Validation Accuracy: 0.477800\n",
      "Epoch 10, CIFAR-10 Batch 1:  Loss:     1.0429 Validation Accuracy: 0.490400\n",
      "Epoch 11, CIFAR-10 Batch 1:  Loss:     1.0168 Validation Accuracy: 0.494200\n",
      "Epoch 12, CIFAR-10 Batch 1:  Loss:     0.9103 Validation Accuracy: 0.506400\n",
      "Epoch 13, CIFAR-10 Batch 1:  Loss:     0.8443 Validation Accuracy: 0.502000\n",
      "Epoch 14, CIFAR-10 Batch 1:  Loss:     0.7880 Validation Accuracy: 0.516000\n",
      "Epoch 15, CIFAR-10 Batch 1:  Loss:     0.7149 Validation Accuracy: 0.525800\n",
      "Epoch 16, CIFAR-10 Batch 1:  Loss:     0.6644 Validation Accuracy: 0.527000\n",
      "Epoch 17, CIFAR-10 Batch 1:  Loss:     0.6544 Validation Accuracy: 0.520600\n",
      "Epoch 18, CIFAR-10 Batch 1:  Loss:     0.6032 Validation Accuracy: 0.527200\n",
      "Epoch 19, CIFAR-10 Batch 1:  Loss:     0.5543 Validation Accuracy: 0.539600\n",
      "Epoch 20, CIFAR-10 Batch 1:  Loss:     0.4819 Validation Accuracy: 0.536400\n",
      "Epoch 21, CIFAR-10 Batch 1:  Loss:     0.5083 Validation Accuracy: 0.530200\n",
      "Epoch 22, CIFAR-10 Batch 1:  Loss:     0.4919 Validation Accuracy: 0.534600\n",
      "Epoch 23, CIFAR-10 Batch 1:  Loss:     0.4247 Validation Accuracy: 0.538600\n",
      "Epoch 24, CIFAR-10 Batch 1:  Loss:     0.3956 Validation Accuracy: 0.544200\n",
      "Epoch 25, CIFAR-10 Batch 1:  Loss:     0.3591 Validation Accuracy: 0.547800\n",
      "Epoch 26, CIFAR-10 Batch 1:  Loss:     0.3242 Validation Accuracy: 0.546200\n",
      "Epoch 27, CIFAR-10 Batch 1:  Loss:     0.3074 Validation Accuracy: 0.550400\n",
      "Epoch 28, CIFAR-10 Batch 1:  Loss:     0.2686 Validation Accuracy: 0.549400\n",
      "Epoch 29, CIFAR-10 Batch 1:  Loss:     0.2425 Validation Accuracy: 0.561200\n",
      "Epoch 30, CIFAR-10 Batch 1:  Loss:     0.2304 Validation Accuracy: 0.547200\n",
      "Epoch 31, CIFAR-10 Batch 1:  Loss:     0.2350 Validation Accuracy: 0.555600\n",
      "Epoch 32, CIFAR-10 Batch 1:  Loss:     0.1984 Validation Accuracy: 0.546600\n",
      "Epoch 33, CIFAR-10 Batch 1:  Loss:     0.2046 Validation Accuracy: 0.554000\n",
      "Epoch 34, CIFAR-10 Batch 1:  Loss:     0.2380 Validation Accuracy: 0.543200\n",
      "Epoch 35, CIFAR-10 Batch 1:  Loss:     0.2032 Validation Accuracy: 0.551200\n",
      "Epoch 36, CIFAR-10 Batch 1:  Loss:     0.1783 Validation Accuracy: 0.549000\n",
      "Epoch 37, CIFAR-10 Batch 1:  Loss:     0.1857 Validation Accuracy: 0.543000\n",
      "Epoch 38, CIFAR-10 Batch 1:  Loss:     0.1771 Validation Accuracy: 0.537200\n",
      "Epoch 39, CIFAR-10 Batch 1:  Loss:     0.1726 Validation Accuracy: 0.507600\n",
      "Epoch 40, CIFAR-10 Batch 1:  Loss:     0.1293 Validation Accuracy: 0.541400\n",
      "Epoch 41, CIFAR-10 Batch 1:  Loss:     0.1070 Validation Accuracy: 0.532000\n",
      "Epoch 42, CIFAR-10 Batch 1:  Loss:     0.0981 Validation Accuracy: 0.542000\n",
      "Epoch 43, CIFAR-10 Batch 1:  Loss:     0.1001 Validation Accuracy: 0.546800\n",
      "Epoch 44, CIFAR-10 Batch 1:  Loss:     0.0892 Validation Accuracy: 0.546200\n",
      "Epoch 45, CIFAR-10 Batch 1:  Loss:     0.0838 Validation Accuracy: 0.546800\n",
      "Epoch 46, CIFAR-10 Batch 1:  Loss:     0.0851 Validation Accuracy: 0.548400\n",
      "Epoch 47, CIFAR-10 Batch 1:  Loss:     0.0738 Validation Accuracy: 0.549200\n",
      "Epoch 48, CIFAR-10 Batch 1:  Loss:     0.1006 Validation Accuracy: 0.525600\n",
      "Epoch 49, CIFAR-10 Batch 1:  Loss:     0.0808 Validation Accuracy: 0.541200\n",
      "Epoch 50, CIFAR-10 Batch 1:  Loss:     0.0551 Validation Accuracy: 0.558600\n"
     ]
    }
   ],
   "source": [
    "\"\"\"\n",
    "DON'T MODIFY ANYTHING IN THIS CELL\n",
    "\"\"\"\n",
    "print('Checking the Training on a Single Batch...')\n",
    "with tf.Session() as sess:\n",
    "    # Initializing the variables\n",
    "    sess.run(tf.global_variables_initializer())\n",
    "    \n",
    "    # Training cycle\n",
    "    for epoch in range(epochs):\n",
    "        batch_i = 1\n",
    "        for batch_features, batch_labels in helper.load_preprocess_training_batch(batch_i, batch_size):\n",
    "            train_neural_network(sess, optimizer, keep_probability, batch_features, batch_labels)\n",
    "        print('Epoch {:>2}, CIFAR-10 Batch {}:  '.format(epoch + 1, batch_i), end='')\n",
    "        print_stats(sess, batch_features, batch_labels, cost, accuracy)"
   ]
  },
  {
   "cell_type": "markdown",
   "metadata": {
    "deletable": true,
    "editable": true
   },
   "source": [
    "### Fully Train the Model\n",
    "Now that you got a good accuracy with a single CIFAR-10 batch, try it with all five batches."
   ]
  },
  {
   "cell_type": "code",
   "execution_count": 37,
   "metadata": {
    "collapsed": false,
    "deletable": true,
    "editable": true
   },
   "outputs": [
    {
     "name": "stdout",
     "output_type": "stream",
     "text": [
      "Training...\n",
      "Epoch  1, CIFAR-10 Batch 1:  Loss:     2.2084 Validation Accuracy: 0.222000\n",
      "Epoch  1, CIFAR-10 Batch 2:  Loss:     1.9459 Validation Accuracy: 0.307200\n",
      "Epoch  1, CIFAR-10 Batch 3:  Loss:     1.6038 Validation Accuracy: 0.376800\n",
      "Epoch  1, CIFAR-10 Batch 4:  Loss:     1.6493 Validation Accuracy: 0.400600\n",
      "Epoch  1, CIFAR-10 Batch 5:  Loss:     1.5706 Validation Accuracy: 0.430400\n",
      "Epoch  2, CIFAR-10 Batch 1:  Loss:     1.6929 Validation Accuracy: 0.441400\n",
      "Epoch  2, CIFAR-10 Batch 2:  Loss:     1.5184 Validation Accuracy: 0.441400\n",
      "Epoch  2, CIFAR-10 Batch 3:  Loss:     1.2449 Validation Accuracy: 0.460400\n",
      "Epoch  2, CIFAR-10 Batch 4:  Loss:     1.3274 Validation Accuracy: 0.478400\n",
      "Epoch  2, CIFAR-10 Batch 5:  Loss:     1.3203 Validation Accuracy: 0.503800\n",
      "Epoch  3, CIFAR-10 Batch 1:  Loss:     1.4181 Validation Accuracy: 0.502800\n",
      "Epoch  3, CIFAR-10 Batch 2:  Loss:     1.2138 Validation Accuracy: 0.488800\n",
      "Epoch  3, CIFAR-10 Batch 3:  Loss:     1.0398 Validation Accuracy: 0.519800\n",
      "Epoch  3, CIFAR-10 Batch 4:  Loss:     1.1651 Validation Accuracy: 0.514200\n",
      "Epoch  3, CIFAR-10 Batch 5:  Loss:     1.1932 Validation Accuracy: 0.535400\n",
      "Epoch  4, CIFAR-10 Batch 1:  Loss:     1.2627 Validation Accuracy: 0.530000\n",
      "Epoch  4, CIFAR-10 Batch 2:  Loss:     0.9967 Validation Accuracy: 0.535600\n",
      "Epoch  4, CIFAR-10 Batch 3:  Loss:     0.8723 Validation Accuracy: 0.549800\n",
      "Epoch  4, CIFAR-10 Batch 4:  Loss:     0.9784 Validation Accuracy: 0.560400\n",
      "Epoch  4, CIFAR-10 Batch 5:  Loss:     1.0313 Validation Accuracy: 0.561400\n",
      "Epoch  5, CIFAR-10 Batch 1:  Loss:     1.0357 Validation Accuracy: 0.574800\n",
      "Epoch  5, CIFAR-10 Batch 2:  Loss:     0.8701 Validation Accuracy: 0.571600\n",
      "Epoch  5, CIFAR-10 Batch 3:  Loss:     0.7551 Validation Accuracy: 0.561400\n",
      "Epoch  5, CIFAR-10 Batch 4:  Loss:     0.8734 Validation Accuracy: 0.570600\n",
      "Epoch  5, CIFAR-10 Batch 5:  Loss:     0.8806 Validation Accuracy: 0.595400\n",
      "Epoch  6, CIFAR-10 Batch 1:  Loss:     0.9481 Validation Accuracy: 0.597800\n",
      "Epoch  6, CIFAR-10 Batch 2:  Loss:     0.7561 Validation Accuracy: 0.599600\n",
      "Epoch  6, CIFAR-10 Batch 3:  Loss:     0.6387 Validation Accuracy: 0.596400\n",
      "Epoch  6, CIFAR-10 Batch 4:  Loss:     0.7931 Validation Accuracy: 0.601200\n",
      "Epoch  6, CIFAR-10 Batch 5:  Loss:     0.7872 Validation Accuracy: 0.603000\n",
      "Epoch  7, CIFAR-10 Batch 1:  Loss:     0.8220 Validation Accuracy: 0.614000\n",
      "Epoch  7, CIFAR-10 Batch 2:  Loss:     0.6272 Validation Accuracy: 0.608200\n",
      "Epoch  7, CIFAR-10 Batch 3:  Loss:     0.5513 Validation Accuracy: 0.609200\n",
      "Epoch  7, CIFAR-10 Batch 4:  Loss:     0.7365 Validation Accuracy: 0.611200\n",
      "Epoch  7, CIFAR-10 Batch 5:  Loss:     0.7036 Validation Accuracy: 0.616200\n",
      "Epoch  8, CIFAR-10 Batch 1:  Loss:     0.7319 Validation Accuracy: 0.618400\n",
      "Epoch  8, CIFAR-10 Batch 2:  Loss:     0.5611 Validation Accuracy: 0.622800\n",
      "Epoch  8, CIFAR-10 Batch 3:  Loss:     0.4993 Validation Accuracy: 0.619800\n",
      "Epoch  8, CIFAR-10 Batch 4:  Loss:     0.6343 Validation Accuracy: 0.625600\n",
      "Epoch  8, CIFAR-10 Batch 5:  Loss:     0.6032 Validation Accuracy: 0.629000\n",
      "Epoch  9, CIFAR-10 Batch 1:  Loss:     0.6814 Validation Accuracy: 0.625600\n",
      "Epoch  9, CIFAR-10 Batch 2:  Loss:     0.5063 Validation Accuracy: 0.638600\n",
      "Epoch  9, CIFAR-10 Batch 3:  Loss:     0.4610 Validation Accuracy: 0.624000\n",
      "Epoch  9, CIFAR-10 Batch 4:  Loss:     0.5798 Validation Accuracy: 0.638600\n",
      "Epoch  9, CIFAR-10 Batch 5:  Loss:     0.5254 Validation Accuracy: 0.631800\n",
      "Epoch 10, CIFAR-10 Batch 1:  Loss:     0.5838 Validation Accuracy: 0.626600\n",
      "Epoch 10, CIFAR-10 Batch 2:  Loss:     0.4801 Validation Accuracy: 0.636800\n",
      "Epoch 10, CIFAR-10 Batch 3:  Loss:     0.3934 Validation Accuracy: 0.629200\n",
      "Epoch 10, CIFAR-10 Batch 4:  Loss:     0.5471 Validation Accuracy: 0.645200\n",
      "Epoch 10, CIFAR-10 Batch 5:  Loss:     0.5233 Validation Accuracy: 0.630600\n",
      "Epoch 11, CIFAR-10 Batch 1:  Loss:     0.5419 Validation Accuracy: 0.631200\n",
      "Epoch 11, CIFAR-10 Batch 2:  Loss:     0.4381 Validation Accuracy: 0.646600\n",
      "Epoch 11, CIFAR-10 Batch 3:  Loss:     0.3454 Validation Accuracy: 0.648600\n",
      "Epoch 11, CIFAR-10 Batch 4:  Loss:     0.4842 Validation Accuracy: 0.651600\n",
      "Epoch 11, CIFAR-10 Batch 5:  Loss:     0.4674 Validation Accuracy: 0.645800\n",
      "Epoch 12, CIFAR-10 Batch 1:  Loss:     0.4836 Validation Accuracy: 0.634400\n",
      "Epoch 12, CIFAR-10 Batch 2:  Loss:     0.3763 Validation Accuracy: 0.658800\n",
      "Epoch 12, CIFAR-10 Batch 3:  Loss:     0.3376 Validation Accuracy: 0.647600\n",
      "Epoch 12, CIFAR-10 Batch 4:  Loss:     0.4225 Validation Accuracy: 0.657400\n",
      "Epoch 12, CIFAR-10 Batch 5:  Loss:     0.4324 Validation Accuracy: 0.653400\n",
      "Epoch 13, CIFAR-10 Batch 1:  Loss:     0.4802 Validation Accuracy: 0.645000\n",
      "Epoch 13, CIFAR-10 Batch 2:  Loss:     0.3400 Validation Accuracy: 0.662000\n",
      "Epoch 13, CIFAR-10 Batch 3:  Loss:     0.3262 Validation Accuracy: 0.639800\n",
      "Epoch 13, CIFAR-10 Batch 4:  Loss:     0.3896 Validation Accuracy: 0.666200\n",
      "Epoch 13, CIFAR-10 Batch 5:  Loss:     0.3769 Validation Accuracy: 0.650200\n",
      "Epoch 14, CIFAR-10 Batch 1:  Loss:     0.4126 Validation Accuracy: 0.646600\n",
      "Epoch 14, CIFAR-10 Batch 2:  Loss:     0.3137 Validation Accuracy: 0.652800\n",
      "Epoch 14, CIFAR-10 Batch 3:  Loss:     0.3128 Validation Accuracy: 0.652200\n",
      "Epoch 14, CIFAR-10 Batch 4:  Loss:     0.3506 Validation Accuracy: 0.671400\n",
      "Epoch 14, CIFAR-10 Batch 5:  Loss:     0.3217 Validation Accuracy: 0.656000\n",
      "Epoch 15, CIFAR-10 Batch 1:  Loss:     0.3896 Validation Accuracy: 0.628400\n",
      "Epoch 15, CIFAR-10 Batch 2:  Loss:     0.3006 Validation Accuracy: 0.663400\n",
      "Epoch 15, CIFAR-10 Batch 3:  Loss:     0.2505 Validation Accuracy: 0.666000\n",
      "Epoch 15, CIFAR-10 Batch 4:  Loss:     0.3230 Validation Accuracy: 0.664600\n",
      "Epoch 15, CIFAR-10 Batch 5:  Loss:     0.2781 Validation Accuracy: 0.654800\n",
      "Epoch 16, CIFAR-10 Batch 1:  Loss:     0.3323 Validation Accuracy: 0.639400\n",
      "Epoch 16, CIFAR-10 Batch 2:  Loss:     0.2671 Validation Accuracy: 0.671400\n",
      "Epoch 16, CIFAR-10 Batch 3:  Loss:     0.2415 Validation Accuracy: 0.661200\n",
      "Epoch 16, CIFAR-10 Batch 4:  Loss:     0.3271 Validation Accuracy: 0.658200\n",
      "Epoch 16, CIFAR-10 Batch 5:  Loss:     0.2828 Validation Accuracy: 0.663400\n",
      "Epoch 17, CIFAR-10 Batch 1:  Loss:     0.3329 Validation Accuracy: 0.665200\n",
      "Epoch 17, CIFAR-10 Batch 2:  Loss:     0.2242 Validation Accuracy: 0.670200\n",
      "Epoch 17, CIFAR-10 Batch 3:  Loss:     0.2289 Validation Accuracy: 0.662800\n",
      "Epoch 17, CIFAR-10 Batch 4:  Loss:     0.2669 Validation Accuracy: 0.676800\n",
      "Epoch 17, CIFAR-10 Batch 5:  Loss:     0.2629 Validation Accuracy: 0.666400\n",
      "Epoch 18, CIFAR-10 Batch 1:  Loss:     0.3000 Validation Accuracy: 0.660800\n",
      "Epoch 18, CIFAR-10 Batch 2:  Loss:     0.1955 Validation Accuracy: 0.678400\n",
      "Epoch 18, CIFAR-10 Batch 3:  Loss:     0.2198 Validation Accuracy: 0.667400\n",
      "Epoch 18, CIFAR-10 Batch 4:  Loss:     0.2492 Validation Accuracy: 0.670400\n",
      "Epoch 18, CIFAR-10 Batch 5:  Loss:     0.2378 Validation Accuracy: 0.664200\n",
      "Epoch 19, CIFAR-10 Batch 1:  Loss:     0.2771 Validation Accuracy: 0.676000\n",
      "Epoch 19, CIFAR-10 Batch 2:  Loss:     0.1872 Validation Accuracy: 0.679800\n",
      "Epoch 19, CIFAR-10 Batch 3:  Loss:     0.1948 Validation Accuracy: 0.664000\n",
      "Epoch 19, CIFAR-10 Batch 4:  Loss:     0.2079 Validation Accuracy: 0.674800\n",
      "Epoch 19, CIFAR-10 Batch 5:  Loss:     0.1969 Validation Accuracy: 0.660800\n",
      "Epoch 20, CIFAR-10 Batch 1:  Loss:     0.2444 Validation Accuracy: 0.669600\n",
      "Epoch 20, CIFAR-10 Batch 2:  Loss:     0.1746 Validation Accuracy: 0.675200\n",
      "Epoch 20, CIFAR-10 Batch 3:  Loss:     0.1753 Validation Accuracy: 0.661400\n",
      "Epoch 20, CIFAR-10 Batch 4:  Loss:     0.1931 Validation Accuracy: 0.674400\n",
      "Epoch 20, CIFAR-10 Batch 5:  Loss:     0.1905 Validation Accuracy: 0.669800\n",
      "Epoch 21, CIFAR-10 Batch 1:  Loss:     0.2386 Validation Accuracy: 0.672600\n",
      "Epoch 21, CIFAR-10 Batch 2:  Loss:     0.1715 Validation Accuracy: 0.680400\n",
      "Epoch 21, CIFAR-10 Batch 3:  Loss:     0.1902 Validation Accuracy: 0.658400\n",
      "Epoch 21, CIFAR-10 Batch 4:  Loss:     0.1992 Validation Accuracy: 0.673200\n",
      "Epoch 21, CIFAR-10 Batch 5:  Loss:     0.1629 Validation Accuracy: 0.665800\n",
      "Epoch 22, CIFAR-10 Batch 1:  Loss:     0.2043 Validation Accuracy: 0.669400\n",
      "Epoch 22, CIFAR-10 Batch 2:  Loss:     0.1516 Validation Accuracy: 0.674400\n",
      "Epoch 22, CIFAR-10 Batch 3:  Loss:     0.1658 Validation Accuracy: 0.650200\n",
      "Epoch 22, CIFAR-10 Batch 4:  Loss:     0.2009 Validation Accuracy: 0.665000\n",
      "Epoch 22, CIFAR-10 Batch 5:  Loss:     0.1684 Validation Accuracy: 0.664000\n",
      "Epoch 23, CIFAR-10 Batch 1:  Loss:     0.2204 Validation Accuracy: 0.653400\n",
      "Epoch 23, CIFAR-10 Batch 2:  Loss:     0.1370 Validation Accuracy: 0.681200\n",
      "Epoch 23, CIFAR-10 Batch 3:  Loss:     0.1769 Validation Accuracy: 0.660400\n",
      "Epoch 23, CIFAR-10 Batch 4:  Loss:     0.2292 Validation Accuracy: 0.653200\n",
      "Epoch 23, CIFAR-10 Batch 5:  Loss:     0.1361 Validation Accuracy: 0.670200\n",
      "Epoch 24, CIFAR-10 Batch 1:  Loss:     0.2149 Validation Accuracy: 0.664800\n",
      "Epoch 24, CIFAR-10 Batch 2:  Loss:     0.1454 Validation Accuracy: 0.675200\n",
      "Epoch 24, CIFAR-10 Batch 3:  Loss:     0.1634 Validation Accuracy: 0.665200\n",
      "Epoch 24, CIFAR-10 Batch 4:  Loss:     0.1837 Validation Accuracy: 0.667400\n",
      "Epoch 24, CIFAR-10 Batch 5:  Loss:     0.1176 Validation Accuracy: 0.679600\n",
      "Epoch 25, CIFAR-10 Batch 1:  Loss:     0.1867 Validation Accuracy: 0.660800\n",
      "Epoch 25, CIFAR-10 Batch 2:  Loss:     0.1431 Validation Accuracy: 0.668800\n",
      "Epoch 25, CIFAR-10 Batch 3:  Loss:     0.1384 Validation Accuracy: 0.677200\n",
      "Epoch 25, CIFAR-10 Batch 4:  Loss:     0.1519 Validation Accuracy: 0.665200\n",
      "Epoch 25, CIFAR-10 Batch 5:  Loss:     0.1268 Validation Accuracy: 0.680400\n",
      "Epoch 26, CIFAR-10 Batch 1:  Loss:     0.1518 Validation Accuracy: 0.659600\n",
      "Epoch 26, CIFAR-10 Batch 2:  Loss:     0.1175 Validation Accuracy: 0.665800\n",
      "Epoch 26, CIFAR-10 Batch 3:  Loss:     0.1184 Validation Accuracy: 0.667000\n",
      "Epoch 26, CIFAR-10 Batch 4:  Loss:     0.1526 Validation Accuracy: 0.672600\n",
      "Epoch 26, CIFAR-10 Batch 5:  Loss:     0.1033 Validation Accuracy: 0.676200\n",
      "Epoch 27, CIFAR-10 Batch 1:  Loss:     0.1449 Validation Accuracy: 0.687000\n",
      "Epoch 27, CIFAR-10 Batch 2:  Loss:     0.0938 Validation Accuracy: 0.683000\n",
      "Epoch 27, CIFAR-10 Batch 3:  Loss:     0.1173 Validation Accuracy: 0.674600\n",
      "Epoch 27, CIFAR-10 Batch 4:  Loss:     0.1306 Validation Accuracy: 0.683000\n",
      "Epoch 27, CIFAR-10 Batch 5:  Loss:     0.0851 Validation Accuracy: 0.681200\n",
      "Epoch 28, CIFAR-10 Batch 1:  Loss:     0.1170 Validation Accuracy: 0.686200\n",
      "Epoch 28, CIFAR-10 Batch 2:  Loss:     0.0833 Validation Accuracy: 0.685000\n",
      "Epoch 28, CIFAR-10 Batch 3:  Loss:     0.1065 Validation Accuracy: 0.670400\n",
      "Epoch 28, CIFAR-10 Batch 4:  Loss:     0.1182 Validation Accuracy: 0.687400\n",
      "Epoch 28, CIFAR-10 Batch 5:  Loss:     0.0949 Validation Accuracy: 0.682400\n",
      "Epoch 29, CIFAR-10 Batch 1:  Loss:     0.1186 Validation Accuracy: 0.680000\n",
      "Epoch 29, CIFAR-10 Batch 2:  Loss:     0.0946 Validation Accuracy: 0.676000\n",
      "Epoch 29, CIFAR-10 Batch 3:  Loss:     0.1063 Validation Accuracy: 0.676200\n",
      "Epoch 29, CIFAR-10 Batch 4:  Loss:     0.0864 Validation Accuracy: 0.683800\n",
      "Epoch 29, CIFAR-10 Batch 5:  Loss:     0.0861 Validation Accuracy: 0.690000\n",
      "Epoch 30, CIFAR-10 Batch 1:  Loss:     0.1517 Validation Accuracy: 0.675400\n",
      "Epoch 30, CIFAR-10 Batch 2:  Loss:     0.0951 Validation Accuracy: 0.677400\n",
      "Epoch 30, CIFAR-10 Batch 3:  Loss:     0.1222 Validation Accuracy: 0.663800\n",
      "Epoch 30, CIFAR-10 Batch 4:  Loss:     0.1107 Validation Accuracy: 0.679800\n",
      "Epoch 30, CIFAR-10 Batch 5:  Loss:     0.0747 Validation Accuracy: 0.683200\n",
      "Epoch 31, CIFAR-10 Batch 1:  Loss:     0.1398 Validation Accuracy: 0.680800\n",
      "Epoch 31, CIFAR-10 Batch 2:  Loss:     0.0917 Validation Accuracy: 0.680400\n",
      "Epoch 31, CIFAR-10 Batch 3:  Loss:     0.1130 Validation Accuracy: 0.656800\n",
      "Epoch 31, CIFAR-10 Batch 4:  Loss:     0.0998 Validation Accuracy: 0.687200\n",
      "Epoch 31, CIFAR-10 Batch 5:  Loss:     0.0993 Validation Accuracy: 0.670000\n",
      "Epoch 32, CIFAR-10 Batch 1:  Loss:     0.1340 Validation Accuracy: 0.675600\n",
      "Epoch 32, CIFAR-10 Batch 2:  Loss:     0.0755 Validation Accuracy: 0.690400\n",
      "Epoch 32, CIFAR-10 Batch 3:  Loss:     0.0983 Validation Accuracy: 0.681400\n",
      "Epoch 32, CIFAR-10 Batch 4:  Loss:     0.0813 Validation Accuracy: 0.685400\n",
      "Epoch 32, CIFAR-10 Batch 5:  Loss:     0.0763 Validation Accuracy: 0.672600\n",
      "Epoch 33, CIFAR-10 Batch 1:  Loss:     0.1116 Validation Accuracy: 0.681600\n",
      "Epoch 33, CIFAR-10 Batch 2:  Loss:     0.0807 Validation Accuracy: 0.679400\n",
      "Epoch 33, CIFAR-10 Batch 3:  Loss:     0.0817 Validation Accuracy: 0.680800\n",
      "Epoch 33, CIFAR-10 Batch 4:  Loss:     0.0674 Validation Accuracy: 0.691000\n",
      "Epoch 33, CIFAR-10 Batch 5:  Loss:     0.0937 Validation Accuracy: 0.662000\n",
      "Epoch 34, CIFAR-10 Batch 1:  Loss:     0.1541 Validation Accuracy: 0.670800\n",
      "Epoch 34, CIFAR-10 Batch 2:  Loss:     0.0834 Validation Accuracy: 0.672800\n",
      "Epoch 34, CIFAR-10 Batch 3:  Loss:     0.0741 Validation Accuracy: 0.682800\n",
      "Epoch 34, CIFAR-10 Batch 4:  Loss:     0.0854 Validation Accuracy: 0.687800\n",
      "Epoch 34, CIFAR-10 Batch 5:  Loss:     0.0689 Validation Accuracy: 0.679000\n",
      "Epoch 35, CIFAR-10 Batch 1:  Loss:     0.1072 Validation Accuracy: 0.688200\n",
      "Epoch 35, CIFAR-10 Batch 2:  Loss:     0.0786 Validation Accuracy: 0.664800\n",
      "Epoch 35, CIFAR-10 Batch 3:  Loss:     0.0695 Validation Accuracy: 0.684600\n",
      "Epoch 35, CIFAR-10 Batch 4:  Loss:     0.0594 Validation Accuracy: 0.685600\n",
      "Epoch 35, CIFAR-10 Batch 5:  Loss:     0.0874 Validation Accuracy: 0.672600\n",
      "Epoch 36, CIFAR-10 Batch 1:  Loss:     0.0876 Validation Accuracy: 0.687400\n",
      "Epoch 36, CIFAR-10 Batch 2:  Loss:     0.0811 Validation Accuracy: 0.668000\n",
      "Epoch 36, CIFAR-10 Batch 3:  Loss:     0.0718 Validation Accuracy: 0.691000\n",
      "Epoch 36, CIFAR-10 Batch 4:  Loss:     0.0683 Validation Accuracy: 0.695000\n",
      "Epoch 36, CIFAR-10 Batch 5:  Loss:     0.0460 Validation Accuracy: 0.678600\n",
      "Epoch 37, CIFAR-10 Batch 1:  Loss:     0.0870 Validation Accuracy: 0.686000\n",
      "Epoch 37, CIFAR-10 Batch 2:  Loss:     0.0503 Validation Accuracy: 0.656200\n",
      "Epoch 37, CIFAR-10 Batch 3:  Loss:     0.0837 Validation Accuracy: 0.689000\n",
      "Epoch 37, CIFAR-10 Batch 4:  Loss:     0.0819 Validation Accuracy: 0.688200\n",
      "Epoch 37, CIFAR-10 Batch 5:  Loss:     0.0518 Validation Accuracy: 0.679200\n",
      "Epoch 38, CIFAR-10 Batch 1:  Loss:     0.0763 Validation Accuracy: 0.685400\n",
      "Epoch 38, CIFAR-10 Batch 2:  Loss:     0.0793 Validation Accuracy: 0.656200\n",
      "Epoch 38, CIFAR-10 Batch 3:  Loss:     0.0772 Validation Accuracy: 0.677400\n",
      "Epoch 38, CIFAR-10 Batch 4:  Loss:     0.0599 Validation Accuracy: 0.689400\n",
      "Epoch 38, CIFAR-10 Batch 5:  Loss:     0.0614 Validation Accuracy: 0.677400\n",
      "Epoch 39, CIFAR-10 Batch 1:  Loss:     0.0983 Validation Accuracy: 0.675400\n",
      "Epoch 39, CIFAR-10 Batch 2:  Loss:     0.0669 Validation Accuracy: 0.674600\n",
      "Epoch 39, CIFAR-10 Batch 3:  Loss:     0.0607 Validation Accuracy: 0.684600\n",
      "Epoch 39, CIFAR-10 Batch 4:  Loss:     0.0654 Validation Accuracy: 0.671600\n",
      "Epoch 39, CIFAR-10 Batch 5:  Loss:     0.0489 Validation Accuracy: 0.667000\n",
      "Epoch 40, CIFAR-10 Batch 1:  Loss:     0.1188 Validation Accuracy: 0.663200\n",
      "Epoch 40, CIFAR-10 Batch 2:  Loss:     0.0475 Validation Accuracy: 0.667800\n",
      "Epoch 40, CIFAR-10 Batch 3:  Loss:     0.0640 Validation Accuracy: 0.682800\n",
      "Epoch 40, CIFAR-10 Batch 4:  Loss:     0.0749 Validation Accuracy: 0.680600\n",
      "Epoch 40, CIFAR-10 Batch 5:  Loss:     0.0441 Validation Accuracy: 0.673000\n",
      "Epoch 41, CIFAR-10 Batch 1:  Loss:     0.1051 Validation Accuracy: 0.662600\n",
      "Epoch 41, CIFAR-10 Batch 2:  Loss:     0.0702 Validation Accuracy: 0.663800\n",
      "Epoch 41, CIFAR-10 Batch 3:  Loss:     0.0602 Validation Accuracy: 0.683000\n",
      "Epoch 41, CIFAR-10 Batch 4:  Loss:     0.0833 Validation Accuracy: 0.663600\n",
      "Epoch 41, CIFAR-10 Batch 5:  Loss:     0.0453 Validation Accuracy: 0.683800\n",
      "Epoch 42, CIFAR-10 Batch 1:  Loss:     0.0968 Validation Accuracy: 0.670800\n",
      "Epoch 42, CIFAR-10 Batch 2:  Loss:     0.0773 Validation Accuracy: 0.652000\n",
      "Epoch 42, CIFAR-10 Batch 3:  Loss:     0.0660 Validation Accuracy: 0.675600\n",
      "Epoch 42, CIFAR-10 Batch 4:  Loss:     0.0917 Validation Accuracy: 0.662000\n",
      "Epoch 42, CIFAR-10 Batch 5:  Loss:     0.0511 Validation Accuracy: 0.677400\n",
      "Epoch 43, CIFAR-10 Batch 1:  Loss:     0.0814 Validation Accuracy: 0.672000\n",
      "Epoch 43, CIFAR-10 Batch 2:  Loss:     0.0634 Validation Accuracy: 0.659200\n",
      "Epoch 43, CIFAR-10 Batch 3:  Loss:     0.0472 Validation Accuracy: 0.683400\n",
      "Epoch 43, CIFAR-10 Batch 4:  Loss:     0.0937 Validation Accuracy: 0.658800\n",
      "Epoch 43, CIFAR-10 Batch 5:  Loss:     0.0367 Validation Accuracy: 0.677800\n",
      "Epoch 44, CIFAR-10 Batch 1:  Loss:     0.0928 Validation Accuracy: 0.671400\n",
      "Epoch 44, CIFAR-10 Batch 2:  Loss:     0.0514 Validation Accuracy: 0.675200\n",
      "Epoch 44, CIFAR-10 Batch 3:  Loss:     0.0565 Validation Accuracy: 0.674600\n",
      "Epoch 44, CIFAR-10 Batch 4:  Loss:     0.0638 Validation Accuracy: 0.673200\n",
      "Epoch 44, CIFAR-10 Batch 5:  Loss:     0.0357 Validation Accuracy: 0.683600\n",
      "Epoch 45, CIFAR-10 Batch 1:  Loss:     0.0755 Validation Accuracy: 0.670600\n",
      "Epoch 45, CIFAR-10 Batch 2:  Loss:     0.0440 Validation Accuracy: 0.684800\n",
      "Epoch 45, CIFAR-10 Batch 3:  Loss:     0.0530 Validation Accuracy: 0.688800\n",
      "Epoch 45, CIFAR-10 Batch 4:  Loss:     0.0543 Validation Accuracy: 0.667000\n",
      "Epoch 45, CIFAR-10 Batch 5:  Loss:     0.0291 Validation Accuracy: 0.688800\n",
      "Epoch 46, CIFAR-10 Batch 1:  Loss:     0.0663 Validation Accuracy: 0.671800\n",
      "Epoch 46, CIFAR-10 Batch 2:  Loss:     0.0432 Validation Accuracy: 0.677000\n",
      "Epoch 46, CIFAR-10 Batch 3:  Loss:     0.0403 Validation Accuracy: 0.691400\n",
      "Epoch 46, CIFAR-10 Batch 4:  Loss:     0.0622 Validation Accuracy: 0.660200\n",
      "Epoch 46, CIFAR-10 Batch 5:  Loss:     0.0290 Validation Accuracy: 0.684600\n",
      "Epoch 47, CIFAR-10 Batch 1:  Loss:     0.0677 Validation Accuracy: 0.674600\n",
      "Epoch 47, CIFAR-10 Batch 2:  Loss:     0.0476 Validation Accuracy: 0.664400\n",
      "Epoch 47, CIFAR-10 Batch 3:  Loss:     0.0419 Validation Accuracy: 0.686200\n",
      "Epoch 47, CIFAR-10 Batch 4:  Loss:     0.0469 Validation Accuracy: 0.664200\n",
      "Epoch 47, CIFAR-10 Batch 5:  Loss:     0.0418 Validation Accuracy: 0.688600\n",
      "Epoch 48, CIFAR-10 Batch 1:  Loss:     0.0630 Validation Accuracy: 0.666000\n",
      "Epoch 48, CIFAR-10 Batch 2:  Loss:     0.0302 Validation Accuracy: 0.677000\n",
      "Epoch 48, CIFAR-10 Batch 3:  Loss:     0.0460 Validation Accuracy: 0.681000\n",
      "Epoch 48, CIFAR-10 Batch 4:  Loss:     0.0577 Validation Accuracy: 0.665000\n",
      "Epoch 48, CIFAR-10 Batch 5:  Loss:     0.0268 Validation Accuracy: 0.678400\n",
      "Epoch 49, CIFAR-10 Batch 1:  Loss:     0.0619 Validation Accuracy: 0.651800\n",
      "Epoch 49, CIFAR-10 Batch 2:  Loss:     0.0354 Validation Accuracy: 0.675000\n",
      "Epoch 49, CIFAR-10 Batch 3:  Loss:     0.0501 Validation Accuracy: 0.683800\n",
      "Epoch 49, CIFAR-10 Batch 4:  Loss:     0.0525 Validation Accuracy: 0.662400\n",
      "Epoch 49, CIFAR-10 Batch 5:  Loss:     0.0322 Validation Accuracy: 0.682200\n",
      "Epoch 50, CIFAR-10 Batch 1:  Loss:     0.0485 Validation Accuracy: 0.674800\n",
      "Epoch 50, CIFAR-10 Batch 2:  Loss:     0.0403 Validation Accuracy: 0.682400\n",
      "Epoch 50, CIFAR-10 Batch 3:  Loss:     0.0365 Validation Accuracy: 0.675200\n",
      "Epoch 50, CIFAR-10 Batch 4:  Loss:     0.0463 Validation Accuracy: 0.672400\n",
      "Epoch 50, CIFAR-10 Batch 5:  Loss:     0.0302 Validation Accuracy: 0.674800\n"
     ]
    }
   ],
   "source": [
    "\"\"\"\n",
    "DON'T MODIFY ANYTHING IN THIS CELL\n",
    "\"\"\"\n",
    "save_model_path = './image_classification'\n",
    "\n",
    "print('Training...')\n",
    "with tf.Session() as sess:\n",
    "    # Initializing the variables\n",
    "    sess.run(tf.global_variables_initializer())\n",
    "    \n",
    "    # Training cycle\n",
    "    for epoch in range(epochs):\n",
    "        # Loop over all batches\n",
    "        n_batches = 5\n",
    "        for batch_i in range(1, n_batches + 1):\n",
    "            for batch_features, batch_labels in helper.load_preprocess_training_batch(batch_i, batch_size):\n",
    "                train_neural_network(sess, optimizer, keep_probability, batch_features, batch_labels)\n",
    "            print('Epoch {:>2}, CIFAR-10 Batch {}:  '.format(epoch + 1, batch_i), end='')\n",
    "            print_stats(sess, batch_features, batch_labels, cost, accuracy)\n",
    "            \n",
    "    # Save Model\n",
    "    saver = tf.train.Saver()\n",
    "    save_path = saver.save(sess, save_model_path)"
   ]
  },
  {
   "cell_type": "markdown",
   "metadata": {
    "deletable": true,
    "editable": true
   },
   "source": [
    "# Checkpoint\n",
    "The model has been saved to disk.\n",
    "## Test Model\n",
    "Test your model against the test dataset.  This will be your final accuracy. You should have an accuracy greater than 50%. If you don't, keep tweaking the model architecture and parameters."
   ]
  },
  {
   "cell_type": "code",
   "execution_count": 38,
   "metadata": {
    "collapsed": false,
    "deletable": true,
    "editable": true
   },
   "outputs": [
    {
     "name": "stdout",
     "output_type": "stream",
     "text": [
      "Testing Accuracy: 0.66806640625\n",
      "\n"
     ]
    },
    {
     "data": {
      "image/png": "[encoded data removed]",
      "text/plain": [
       "<matplotlib.figure.Figure at 0x7f6720361d68>"
      ]
     },
     "metadata": {
      "image/png": {
       "height": 319,
       "width": 355
      }
     },
     "output_type": "display_data"
    }
   ],
   "source": [
    "\"\"\"\n",
    "DON'T MODIFY ANYTHING IN THIS CELL\n",
    "\"\"\"\n",
    "%matplotlib inline\n",
    "%config InlineBackend.figure_format = 'retina'\n",
    "\n",
    "import tensorflow as tf\n",
    "import pickle\n",
    "import helper\n",
    "import random\n",
    "\n",
    "# Set batch size if not already set\n",
    "try:\n",
    "    if batch_size:\n",
    "        pass\n",
    "except NameError:\n",
    "    batch_size = 64\n",
    "\n",
    "save_model_path = './image_classification'\n",
    "n_samples = 4\n",
    "top_n_predictions = 3\n",
    "\n",
    "def test_model():\n",
    "    \"\"\"\n",
    "    Test the saved model against the test dataset\n",
    "    \"\"\"\n",
    "\n",
    "    test_features, test_labels = pickle.load(open('preprocess_training.p', mode='rb'))\n",
    "    loaded_graph = tf.Graph()\n",
    "\n",
    "    with tf.Session(graph=loaded_graph) as sess:\n",
    "        # Load model\n",
    "        loader = tf.train.import_meta_graph(save_model_path + '.meta')\n",
    "        loader.restore(sess, save_model_path)\n",
    "\n",
    "        # Get Tensors from loaded model\n",
    "        loaded_x = loaded_graph.get_tensor_by_name('x:0')\n",
    "        loaded_y = loaded_graph.get_tensor_by_name('y:0')\n",
    "        loaded_keep_prob = loaded_graph.get_tensor_by_name('keep_prob:0')\n",
    "        loaded_logits = loaded_graph.get_tensor_by_name('logits:0')\n",
    "        loaded_acc = loaded_graph.get_tensor_by_name('accuracy:0')\n",
    "        \n",
    "        # Get accuracy in batches for memory limitations\n",
    "        test_batch_acc_total = 0\n",
    "        test_batch_count = 0\n",
    "        \n",
    "        for train_feature_batch, train_label_batch in helper.batch_features_labels(test_features, test_labels, batch_size):\n",
    "            test_batch_acc_total += sess.run(\n",
    "                loaded_acc,\n",
    "                feed_dict={loaded_x: train_feature_batch, loaded_y: train_label_batch, loaded_keep_prob: 1.0})\n",
    "            test_batch_count += 1\n",
    "\n",
    "        print('Testing Accuracy: {}\\n'.format(test_batch_acc_total/test_batch_count))\n",
    "\n",
    "        # Print Random Samples\n",
    "        random_test_features, random_test_labels = tuple(zip(*random.sample(list(zip(test_features, test_labels)), n_samples)))\n",
    "        random_test_predictions = sess.run(\n",
    "            tf.nn.top_k(tf.nn.softmax(loaded_logits), top_n_predictions),\n",
    "            feed_dict={loaded_x: random_test_features, loaded_y: random_test_labels, loaded_keep_prob: 1.0})\n",
    "        helper.display_image_predictions(random_test_features, random_test_labels, random_test_predictions)\n",
    "\n",
    "\n",
    "test_model()"
   ]
  },
  {
   "cell_type": "markdown",
   "metadata": {
    "deletable": true,
    "editable": true
   },
   "source": [
    "## Why 50-70% Accuracy?\n",
    "You might be wondering why you can't get an accuracy any higher. First things first, 50% isn't bad for a simple CNN.  Pure guessing would get you 10% accuracy. However, you might notice people are getting scores [well above 70%](http://rodrigob.github.io/are_we_there_yet/build/classification_datasets_results.html#43494641522d3130).  That's because we haven't taught you all there is to know about neural networks. We still need to cover a few more techniques.\n",
    "## Submitting This Project\n",
    "When submitting this project, make sure to run all the cells before saving the notebook.  Save the notebook file as \"dlnd_image_classification.ipynb\" and save it as a HTML file under \"File\" -> \"Download as\".  Include the \"helper.py\" and \"problem_unittests.py\" files in your submission."
   ]
  }
 ],
 "metadata": {
  "kernelspec": {
   "display_name": "Python 3",
   "language": "python",
   "name": "python3"
  },
  "language_info": {
   "codemirror_mode": {
    "name": "ipython",
    "version": 3
   },
   "file_extension": ".py",
   "mimetype": "text/x-python",
   "name": "python",
   "nbconvert_exporter": "python",
   "pygments_lexer": "ipython3",
   "version": "3.6.0"
  }
 },
 "nbformat": 4,
 "nbformat_minor": 0
}
